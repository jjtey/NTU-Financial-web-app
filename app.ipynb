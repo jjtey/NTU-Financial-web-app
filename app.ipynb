{
 "cells": [
  {
   "cell_type": "code",
   "execution_count": null,
   "id": "055de66a-eef3-4de9-8650-244df49113a7",
   "metadata": {},
   "outputs": [
    {
     "name": "stdout",
     "output_type": "stream",
     "text": [
      " * Serving Flask app '__main__'\n",
      " * Debug mode: off\n"
     ]
    },
    {
     "name": "stderr",
     "output_type": "stream",
     "text": [
      "WARNING: This is a development server. Do not use it in a production deployment. Use a production WSGI server instead.\n",
      " * Running on http://127.0.0.1:5000\n",
      "Press CTRL+C to quit\n",
      "127.0.0.1 - - [11/May/2024 14:53:19] \"GET / HTTP/1.1\" 200 -\n",
      "127.0.0.1 - - [11/May/2024 14:53:21] \"POST /main HTTP/1.1\" 200 -\n",
      "127.0.0.1 - - [11/May/2024 14:53:23] \"POST /prediction HTTP/1.1\" 200 -\n",
      "[2024-05-11 14:53:27,637] ERROR in app: Exception on /dbs_price [POST]\n",
      "Traceback (most recent call last):\n",
      "  File \"C:\\Users\\Junjie\\anaconda3\\Lib\\site-packages\\flask\\app.py\", line 2529, in wsgi_app\n",
      "    response = self.full_dispatch_request()\n",
      "               ^^^^^^^^^^^^^^^^^^^^^^^^^^^^\n",
      "  File \"C:\\Users\\Junjie\\anaconda3\\Lib\\site-packages\\flask\\app.py\", line 1825, in full_dispatch_request\n",
      "    rv = self.handle_user_exception(e)\n",
      "         ^^^^^^^^^^^^^^^^^^^^^^^^^^^^^\n",
      "  File \"C:\\Users\\Junjie\\anaconda3\\Lib\\site-packages\\flask\\app.py\", line 1823, in full_dispatch_request\n",
      "    rv = self.dispatch_request()\n",
      "         ^^^^^^^^^^^^^^^^^^^^^^^\n",
      "  File \"C:\\Users\\Junjie\\anaconda3\\Lib\\site-packages\\flask\\app.py\", line 1799, in dispatch_request\n",
      "    return self.ensure_sync(self.view_functions[rule.endpoint])(**view_args)\n",
      "           ^^^^^^^^^^^^^^^^^^^^^^^^^^^^^^^^^^^^^^^^^^^^^^^^^^^^^^^^^^^^^^^^^\n",
      "  File \"C:\\Users\\Junjie\\AppData\\Local\\Temp\\ipykernel_13260\\2336591160.py\", line 20, in dbs_price\n",
      "    q = float(request.form.get(\"q\"))\n",
      "        ^^^^^^^^^^^^^^^^^^^^^^^^^^^^\n",
      "ValueError: could not convert string to float: ''\n",
      "127.0.0.1 - - [11/May/2024 14:53:27] \"POST /dbs_price HTTP/1.1\" 500 -\n",
      "127.0.0.1 - - [11/May/2024 14:53:32] \"POST /dbs_price HTTP/1.1\" 200 -\n"
     ]
    }
   ],
   "source": [
    "from flask import Flask, render_template, request\n",
    "\n",
    "app = Flask(__name__)\n",
    "\n",
    "@app.route(\"/\",methods=['GET','POST'])\n",
    "def index():\n",
    "    return(render_template(\"index.html\"))\n",
    "\n",
    "@app.route(\"/main\",methods=['GET','POST'])\n",
    "def main():\n",
    "    r = request.form.get(\"q\")\n",
    "    return(render_template(\"main.html\", r=r)) #define frontend r as backend r (request.form.get(\"q\"))\n",
    "\n",
    "@app.route(\"/prediction\",methods=['GET','POST'])\n",
    "def prediction():\n",
    "    return(render_template(\"prediction.html\"))\n",
    "\n",
    "@app.route(\"/dbs_price\",methods=['GET','POST'])\n",
    "def dbs_price():\n",
    "    q = float(request.form.get(\"q\"))\n",
    "    return(render_template(\"dbs_price.html\",r=(q*-50.6)+90.2)) #coefficient/intercept is from slide 13 of MM AI Deck \n",
    "\n",
    "#double underline means a magic variable that cannot be defined elsewhere\n",
    "if __name__ == \"__main__\":\n",
    "    app.run()"
   ]
  },
  {
   "cell_type": "code",
   "execution_count": null,
   "id": "ab99f868-b35c-471b-8009-9d87f5874ed2",
   "metadata": {},
   "outputs": [],
   "source": []
  }
 ],
 "metadata": {
  "kernelspec": {
   "display_name": "Python 3 (ipykernel)",
   "language": "python",
   "name": "python3"
  },
  "language_info": {
   "codemirror_mode": {
    "name": "ipython",
    "version": 3
   },
   "file_extension": ".py",
   "mimetype": "text/x-python",
   "name": "python",
   "nbconvert_exporter": "python",
   "pygments_lexer": "ipython3",
   "version": "3.11.7"
  }
 },
 "nbformat": 4,
 "nbformat_minor": 5
}
